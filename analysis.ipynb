{
 "cells": [
  {
   "cell_type": "code",
   "execution_count": 16,
   "metadata": {},
   "outputs": [],
   "source": [
    "import os\n",
    "from pathlib import Path\n",
    "import pandas as pd\n",
    "import numpy as np\n",
    "import matplotlib.pyplot as plt\n",
    "import seaborn as sns"
   ]
  },
  {
   "cell_type": "code",
   "execution_count": 17,
   "metadata": {},
   "outputs": [
    {
     "data": {
      "text/html": [
       "<div>\n",
       "<style scoped>\n",
       "    .dataframe tbody tr th:only-of-type {\n",
       "        vertical-align: middle;\n",
       "    }\n",
       "\n",
       "    .dataframe tbody tr th {\n",
       "        vertical-align: top;\n",
       "    }\n",
       "\n",
       "    .dataframe thead th {\n",
       "        text-align: right;\n",
       "    }\n",
       "</style>\n",
       "<table border=\"1\" class=\"dataframe\">\n",
       "  <thead>\n",
       "    <tr style=\"text-align: right;\">\n",
       "      <th></th>\n",
       "      <th>image_id</th>\n",
       "      <th>chip_id</th>\n",
       "      <th>flood_id</th>\n",
       "      <th>polarization</th>\n",
       "      <th>location</th>\n",
       "      <th>scene_start</th>\n",
       "    </tr>\n",
       "  </thead>\n",
       "  <tbody>\n",
       "    <tr>\n",
       "      <th>0</th>\n",
       "      <td>awc00_vh</td>\n",
       "      <td>awc00</td>\n",
       "      <td>awc</td>\n",
       "      <td>vh</td>\n",
       "      <td>Bolivia</td>\n",
       "      <td>2018-02-15</td>\n",
       "    </tr>\n",
       "    <tr>\n",
       "      <th>1</th>\n",
       "      <td>awc00_vv</td>\n",
       "      <td>awc00</td>\n",
       "      <td>awc</td>\n",
       "      <td>vv</td>\n",
       "      <td>Bolivia</td>\n",
       "      <td>2018-02-15</td>\n",
       "    </tr>\n",
       "    <tr>\n",
       "      <th>2</th>\n",
       "      <td>awc01_vh</td>\n",
       "      <td>awc01</td>\n",
       "      <td>awc</td>\n",
       "      <td>vh</td>\n",
       "      <td>Bolivia</td>\n",
       "      <td>2018-02-15</td>\n",
       "    </tr>\n",
       "    <tr>\n",
       "      <th>3</th>\n",
       "      <td>awc01_vv</td>\n",
       "      <td>awc01</td>\n",
       "      <td>awc</td>\n",
       "      <td>vv</td>\n",
       "      <td>Bolivia</td>\n",
       "      <td>2018-02-15</td>\n",
       "    </tr>\n",
       "    <tr>\n",
       "      <th>4</th>\n",
       "      <td>awc02_vh</td>\n",
       "      <td>awc02</td>\n",
       "      <td>awc</td>\n",
       "      <td>vh</td>\n",
       "      <td>Bolivia</td>\n",
       "      <td>2018-02-15</td>\n",
       "    </tr>\n",
       "    <tr>\n",
       "      <th>...</th>\n",
       "      <td>...</td>\n",
       "      <td>...</td>\n",
       "      <td>...</td>\n",
       "      <td>...</td>\n",
       "      <td>...</td>\n",
       "      <td>...</td>\n",
       "    </tr>\n",
       "    <tr>\n",
       "      <th>1079</th>\n",
       "      <td>wvy29_vv</td>\n",
       "      <td>wvy29</td>\n",
       "      <td>wvy</td>\n",
       "      <td>vv</td>\n",
       "      <td>UK</td>\n",
       "      <td>2019-02-15</td>\n",
       "    </tr>\n",
       "    <tr>\n",
       "      <th>1080</th>\n",
       "      <td>wvy30_vh</td>\n",
       "      <td>wvy30</td>\n",
       "      <td>wvy</td>\n",
       "      <td>vh</td>\n",
       "      <td>UK</td>\n",
       "      <td>2019-02-15</td>\n",
       "    </tr>\n",
       "    <tr>\n",
       "      <th>1081</th>\n",
       "      <td>wvy30_vv</td>\n",
       "      <td>wvy30</td>\n",
       "      <td>wvy</td>\n",
       "      <td>vv</td>\n",
       "      <td>UK</td>\n",
       "      <td>2019-02-15</td>\n",
       "    </tr>\n",
       "    <tr>\n",
       "      <th>1082</th>\n",
       "      <td>wvy31_vh</td>\n",
       "      <td>wvy31</td>\n",
       "      <td>wvy</td>\n",
       "      <td>vh</td>\n",
       "      <td>UK</td>\n",
       "      <td>2019-02-15</td>\n",
       "    </tr>\n",
       "    <tr>\n",
       "      <th>1083</th>\n",
       "      <td>wvy31_vv</td>\n",
       "      <td>wvy31</td>\n",
       "      <td>wvy</td>\n",
       "      <td>vv</td>\n",
       "      <td>UK</td>\n",
       "      <td>2019-02-15</td>\n",
       "    </tr>\n",
       "  </tbody>\n",
       "</table>\n",
       "<p>1084 rows × 6 columns</p>\n",
       "</div>"
      ],
      "text/plain": [
       "      image_id chip_id flood_id polarization location scene_start\n",
       "0     awc00_vh   awc00      awc           vh  Bolivia  2018-02-15\n",
       "1     awc00_vv   awc00      awc           vv  Bolivia  2018-02-15\n",
       "2     awc01_vh   awc01      awc           vh  Bolivia  2018-02-15\n",
       "3     awc01_vv   awc01      awc           vv  Bolivia  2018-02-15\n",
       "4     awc02_vh   awc02      awc           vh  Bolivia  2018-02-15\n",
       "...        ...     ...      ...          ...      ...         ...\n",
       "1079  wvy29_vv   wvy29      wvy           vv       UK  2019-02-15\n",
       "1080  wvy30_vh   wvy30      wvy           vh       UK  2019-02-15\n",
       "1081  wvy30_vv   wvy30      wvy           vv       UK  2019-02-15\n",
       "1082  wvy31_vh   wvy31      wvy           vh       UK  2019-02-15\n",
       "1083  wvy31_vv   wvy31      wvy           vv       UK  2019-02-15\n",
       "\n",
       "[1084 rows x 6 columns]"
      ]
     },
     "execution_count": 17,
     "metadata": {},
     "output_type": "execute_result"
    }
   ],
   "source": [
    "# Let's check the metadata file first\n",
    "\n",
    "FILE_PATH = Path(\"data\")\n",
    "metadata = pd.read_csv(FILE_PATH/ \"flood-training-metadata.csv\" )\n",
    "metadata['scene_start'] = pd.to_datetime(metadata['scene_start'])\n",
    "metadata"
   ]
  },
  {
   "cell_type": "markdown",
   "metadata": {},
   "source": [
    "The data consists of SAR data with two polarization bands, VV and VH.\n",
    "\n",
    "Let's understand the columns one by one:\n",
    "\n",
    "image_id- Each polarization band is identified by a unique id. This unique id is a combination of chip_id and the type of polarization.\n",
    "\n",
    "chip_id- consists of flood_id and the chip_number\n",
    "\n",
    "flood_id- flood events\n",
    "\n",
    "polarization- There are two types here vv and vh\n",
    "\n",
    "location- location of the chips \n",
    "\n",
    "scene_start- Date on which the chip was recorded"
   ]
  },
  {
   "cell_type": "code",
   "execution_count": 18,
   "metadata": {},
   "outputs": [
    {
     "data": {
      "text/plain": [
       "Text(0.5, 1.02, 'Number of flood_ids present')"
      ]
     },
     "execution_count": 18,
     "metadata": {},
     "output_type": "execute_result"
    },
    {
     "data": {
      "image/png": "[encoded data removed]",
      "text/plain": [
       "<Figure size 576x288 with 1 Axes>"
      ]
     },
     "metadata": {
      "needs_background": "light"
     },
     "output_type": "display_data"
    }
   ],
   "source": [
    "#How many different flood_ids are present in the dataset:\n",
    "\n",
    "fig = plt.figure()\n",
    "\n",
    "ax = fig.add_subplot()\n",
    "\n",
    "metadata['flood_id'].value_counts().sort_values().plot(ax = ax, kind='barh', figsize=(8, 4))\n",
    "ax.set_xlabel(\"Count\", labelpad=14, fontsize=20)\n",
    "ax.set_ylabel(\"\", labelpad=14, fontsize=20)\n",
    "ax.tick_params(labelsize=15)\n",
    "ax.set_title(\"Number of flood_ids present\", y=1.02,fontsize=20)"
   ]
  },
  {
   "cell_type": "markdown",
   "metadata": {},
   "source": [
    "There are 542 unique chip_ids where each unique chip_id has both vv and vh bands"
   ]
  },
  {
   "cell_type": "code",
   "execution_count": 19,
   "metadata": {},
   "outputs": [
    {
     "data": {
      "text/plain": [
       "count      1084\n",
       "unique      542\n",
       "top       pxs19\n",
       "freq          2\n",
       "Name: chip_id, dtype: object"
      ]
     },
     "execution_count": 19,
     "metadata": {},
     "output_type": "execute_result"
    }
   ],
   "source": [
    "metadata['chip_id'].describe()"
   ]
  },
  {
   "cell_type": "markdown",
   "metadata": {},
   "source": [
    "Most data belongs to the location of USA, India, Paraguay, Slovakia and Ghana. The chip_ids(2 bands per chip number) are between 60-70 for these locations."
   ]
  },
  {
   "cell_type": "code",
   "execution_count": 20,
   "metadata": {},
   "outputs": [
    {
     "data": {
      "text/plain": [
       "Text(0.5, 1.02, 'Number of location present')"
      ]
     },
     "execution_count": 20,
     "metadata": {},
     "output_type": "execute_result"
    },
    {
     "data": {
      "image/png": "[encoded data removed]",
      "text/plain": [
       "<Figure size 576x288 with 1 Axes>"
      ]
     },
     "metadata": {
      "needs_background": "light"
     },
     "output_type": "display_data"
    }
   ],
   "source": [
    "#How many different chip_ids are present in the dataset:\n",
    "\n",
    "fig = plt.figure()\n",
    "\n",
    "ax = fig.add_subplot()\n",
    "\n",
    "metadata['location'].value_counts().sort_values().plot(ax = ax, kind='barh', figsize=(8, 4))\n",
    "ax.set_xlabel(\"Count\", labelpad=14, fontsize=20)\n",
    "ax.set_ylabel(\"\", labelpad=14, fontsize=20)\n",
    "ax.tick_params(labelsize=15)\n",
    "ax.set_title(\"Number of location present\", y=1.02,fontsize=20)"
   ]
  },
  {
   "cell_type": "markdown",
   "metadata": {},
   "source": [
    "The year of image capture starts from 2016 and is upto 2020, with most scenes captured are during 2018"
   ]
  },
  {
   "cell_type": "code",
   "execution_count": 21,
   "metadata": {},
   "outputs": [
    {
     "data": {
      "text/plain": [
       "2018    416\n",
       "2019    262\n",
       "2017    140\n",
       "2016    136\n",
       "2020    130\n",
       "Name: scene_start, dtype: int64"
      ]
     },
     "execution_count": 21,
     "metadata": {},
     "output_type": "execute_result"
    }
   ],
   "source": [
    "year_of_capture = (metadata['scene_start'].dt.year).astype(str)\n",
    "year_of_capture.value_counts()"
   ]
  },
  {
   "cell_type": "code",
   "execution_count": 22,
   "metadata": {},
   "outputs": [],
   "source": [
    "# image_path = FILE_PATH/ \"train_features/awc00_vh.tif\"\n",
    "\n",
    "# image = rasterio.open(image_path)\n",
    "# show(image)"
   ]
  },
  {
   "cell_type": "code",
   "execution_count": null,
   "metadata": {},
   "outputs": [],
   "source": []
  }
 ],
 "metadata": {
  "kernelspec": {
   "display_name": "Python 3",
   "language": "python",
   "name": "python3"
  },
  "language_info": {
   "codemirror_mode": {
    "name": "ipython",
    "version": 3
   },
   "file_extension": ".py",
   "mimetype": "text/x-python",
   "name": "python",
   "nbconvert_exporter": "python",
   "pygments_lexer": "ipython3",
   "version": "3.8.1"
  }
 },
 "nbformat": 4,
 "nbformat_minor": 1
}
