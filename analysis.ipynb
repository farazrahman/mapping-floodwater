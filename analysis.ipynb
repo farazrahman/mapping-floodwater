{
 "cells": [
  {
   "cell_type": "code",
   "execution_count": 8,
   "metadata": {},
   "outputs": [
    {
     "ename": "ModuleNotFoundError",
     "evalue": "No module named 'rasterio'",
     "output_type": "error",
     "traceback": [
      "\u001b[0;31m---------------------------------------------------------------------------\u001b[0m",
      "\u001b[0;31mModuleNotFoundError\u001b[0m                       Traceback (most recent call last)",
      "\u001b[0;32m<ipython-input-8-779410beec85>\u001b[0m in \u001b[0;36m<module>\u001b[0;34m\u001b[0m\n\u001b[1;32m      5\u001b[0m \u001b[0;32mimport\u001b[0m \u001b[0mmatplotlib\u001b[0m\u001b[0;34m.\u001b[0m\u001b[0mpyplot\u001b[0m \u001b[0;32mas\u001b[0m \u001b[0mplt\u001b[0m\u001b[0;34m\u001b[0m\u001b[0;34m\u001b[0m\u001b[0m\n\u001b[1;32m      6\u001b[0m \u001b[0;32mimport\u001b[0m \u001b[0mseaborn\u001b[0m \u001b[0;32mas\u001b[0m \u001b[0msns\u001b[0m\u001b[0;34m\u001b[0m\u001b[0;34m\u001b[0m\u001b[0m\n\u001b[0;32m----> 7\u001b[0;31m \u001b[0;32mimport\u001b[0m \u001b[0mrasterio\u001b[0m\u001b[0;34m\u001b[0m\u001b[0;34m\u001b[0m\u001b[0m\n\u001b[0m\u001b[1;32m      8\u001b[0m \u001b[0;32mfrom\u001b[0m \u001b[0mrasterio\u001b[0m\u001b[0;34m.\u001b[0m\u001b[0mplot\u001b[0m \u001b[0;32mimport\u001b[0m \u001b[0mshow\u001b[0m\u001b[0;34m\u001b[0m\u001b[0;34m\u001b[0m\u001b[0m\n",
      "\u001b[0;31mModuleNotFoundError\u001b[0m: No module named 'rasterio'"
     ]
    }
   ],
   "source": [
    "import os\n",
    "from pathlib import Path\n",
    "import pandas as pd\n",
    "import numpy as np\n",
    "import matplotlib.pyplot as plt\n",
    "import seaborn as sns\n",
    "import rasterio\n",
    "from rasterio.plot import show"
   ]
  },
  {
   "cell_type": "code",
   "execution_count": null,
   "metadata": {},
   "outputs": [],
   "source": [
    "# Let's check the metadata file first\n",
    "\n",
    "FILE_PATH = Path(\"data\")\n",
    "metadata = pd.read_csv(FILE_PATH/ \"flood-training-metadata.csv\" )\n",
    "metadata['scene_start'] = pd.to_datetime(metadata['scene_start'])\n",
    "metadata"
   ]
  },
  {
   "cell_type": "markdown",
   "metadata": {},
   "source": [
    "The data consists of SAR data with two polarization bands, VV and VH.\n",
    "\n",
    "Let's understand the columns one by one:\n",
    "\n",
    "image_id- Each polarization band is identified by a unique id. This unique id is a combination of chip_id and the type of polarization.\n",
    "\n",
    "chip_id- consists of flood_id and the chip_number\n",
    "\n",
    "flood_id- flood events\n",
    "\n",
    "polarization- There are two types here vv and vh\n",
    "\n",
    "location- location of the chips \n",
    "\n",
    "scene_start- Date on which the chip was recorded"
   ]
  },
  {
   "cell_type": "code",
   "execution_count": null,
   "metadata": {},
   "outputs": [],
   "source": [
    "#How many different flood_ids are present in the dataset:\n",
    "\n",
    "fig = plt.figure()\n",
    "\n",
    "ax = fig.add_subplot()\n",
    "\n",
    "metadata['flood_id'].value_counts().sort_values().plot(ax = ax, kind='barh', figsize=(8, 4))\n",
    "ax.set_xlabel(\"Count\", labelpad=14, fontsize=20)\n",
    "ax.set_ylabel(\"\", labelpad=14, fontsize=20)\n",
    "ax.tick_params(labelsize=15)\n",
    "ax.set_title(\"Number of flood_ids present\", y=1.02,fontsize=20)"
   ]
  },
  {
   "cell_type": "markdown",
   "metadata": {},
   "source": [
    "There are 542 unique chip_ids where each unique chip_id has both vv and vh bands"
   ]
  },
  {
   "cell_type": "code",
   "execution_count": null,
   "metadata": {},
   "outputs": [],
   "source": [
    "metadata['chip_id'].describe()"
   ]
  },
  {
   "cell_type": "markdown",
   "metadata": {},
   "source": [
    "Most data belongs to the location of USA, India, Paraguay, Slovakia and Ghana. The chip_ids(2 bands per chip number) are between 60-70 for these locations."
   ]
  },
  {
   "cell_type": "code",
   "execution_count": null,
   "metadata": {},
   "outputs": [],
   "source": [
    "#How many different chip_ids are present in the dataset:\n",
    "\n",
    "fig = plt.figure()\n",
    "\n",
    "ax = fig.add_subplot()\n",
    "\n",
    "metadata['location'].value_counts().sort_values().plot(ax = ax, kind='barh', figsize=(8, 4))\n",
    "ax.set_xlabel(\"Count\", labelpad=14, fontsize=20)\n",
    "ax.set_ylabel(\"\", labelpad=14, fontsize=20)\n",
    "ax.tick_params(labelsize=15)\n",
    "ax.set_title(\"Number of location present\", y=1.02,fontsize=20)"
   ]
  },
  {
   "cell_type": "markdown",
   "metadata": {},
   "source": [
    "The year of image capture starts from 2016 and is upto 2020, with most scenes captured are during 2018"
   ]
  },
  {
   "cell_type": "code",
   "execution_count": null,
   "metadata": {},
   "outputs": [],
   "source": [
    "year_of_capture = (metadata['scene_start'].dt.year).astype(str)\n",
    "year_of_capture.value_counts()"
   ]
  },
  {
   "cell_type": "code",
   "execution_count": null,
   "metadata": {},
   "outputs": [],
   "source": [
    "image_path = FILE_PATH/ \"train_features/awc00_vh.tif\"\n",
    "\n",
    "image = rasterio.open(image_path)\n",
    "show(image)"
   ]
  },
  {
   "cell_type": "code",
   "execution_count": null,
   "metadata": {},
   "outputs": [],
   "source": []
  }
 ],
 "metadata": {
  "kernelspec": {
   "display_name": "Python 3",
   "language": "python",
   "name": "python3"
  },
  "language_info": {
   "codemirror_mode": {
    "name": "ipython",
    "version": 3
   },
   "file_extension": ".py",
   "mimetype": "text/x-python",
   "name": "python",
   "nbconvert_exporter": "python",
   "pygments_lexer": "ipython3",
   "version": "3.8.1"
  }
 },
 "nbformat": 4,
 "nbformat_minor": 1
}
